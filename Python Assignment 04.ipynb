{
 "cells": [
  {
   "cell_type": "markdown",
   "metadata": {},
   "source": [
    "<h3>PYTHON ASSIGNMENT 04"
   ]
  },
  {
   "cell_type": "markdown",
   "metadata": {},
   "source": [
    "1.1 Write a Python Program(with class concepts) to find the area of the triangle using the below\n",
    "formula.\n",
    "area = (s*(s-a)*(s-b)*(s-c)) ** 0.5\n",
    "Function to take the length of the sides of triangle from user should be defined in the parent\n",
    "class and function to calculate the area should be defined in subclass."
   ]
  },
  {
   "cell_type": "code",
   "execution_count": 3,
   "metadata": {},
   "outputs": [],
   "source": [
    "class Parent():\n",
    "    def __init__(self):\n",
    "        self.a=int(input(\"Enter First Side of Triangle: \"))\n",
    "        self.b=int(input(\"Enter Second Side of Triangle: \"))\n",
    "        self.c=int(input(\"Enter Third Side of Triangle: \"))\n",
    "    \n",
    "\n",
    "class Child(Parent): \n",
    "    def Triangle_Area(self):\n",
    "        s=0.5*(self.a+self.b+self.c)\n",
    "        Area= (s*(s-self.a)*(s-self.b)*(s-self.c)) ** 0.5\n",
    "        print('')\n",
    "        print(\"Area of given sides of triangle is: \",Area)"
   ]
  },
  {
   "cell_type": "code",
   "execution_count": 4,
   "metadata": {},
   "outputs": [
    {
     "name": "stdout",
     "output_type": "stream",
     "text": [
      "Enter First Side of Triangle: 5\n",
      "Enter Second Side of Triangle: 5\n",
      "Enter Third Side of Triangle: 5\n",
      "\n",
      "Area of given sides of triangle is:  10.825317547305483\n"
     ]
    }
   ],
   "source": [
    "obj=Child()\n",
    "a=obj.Triangle_Area()"
   ]
  },
  {
   "cell_type": "markdown",
   "metadata": {},
   "source": []
  },
  {
   "cell_type": "markdown",
   "metadata": {},
   "source": [
    "1.2 Write a function filter_long_words() that takes a list of words and an integer n and returns\n",
    "the list of words that are longer than n."
   ]
  },
  {
   "cell_type": "code",
   "execution_count": 8,
   "metadata": {},
   "outputs": [
    {
     "name": "stdout",
     "output_type": "stream",
     "text": [
      "How Many Words do you want to enter: 4\n",
      "Enter Word: Suraj\n",
      "Enter Word: Krish\n",
      "Enter Word: Sudhanshu\n",
      "Enter Word: Prateek\n",
      "Enter Number: 5\n",
      "\n",
      "['Sudhanshu', 'Prateek']\n"
     ]
    }
   ],
   "source": [
    "def filter_long_words():\n",
    "    lst=[]\n",
    "    m=int(input(\"How Many Words do you want to enter: \"))\n",
    "    for i in range(m):\n",
    "        lst.append(input(\"Enter Word: \"))\n",
    "    n=int(input(\"Enter Number: \"))\n",
    "    final_lst=[]\n",
    "    for i in range(len(lst)):\n",
    "        if len(lst[i])>n:\n",
    "            final_lst.append(lst[i])\n",
    "    print('')\n",
    "    print(final_lst)\n",
    "\n",
    "filter_long_words()"
   ]
  },
  {
   "cell_type": "code",
   "execution_count": null,
   "metadata": {},
   "outputs": [],
   "source": []
  },
  {
   "cell_type": "markdown",
   "metadata": {},
   "source": [
    "2.1 Write a Python program using function concept that maps list of words into a list of integers\n",
    "representing the lengths of the corresponding words."
   ]
  },
  {
   "cell_type": "code",
   "execution_count": 12,
   "metadata": {},
   "outputs": [
    {
     "name": "stdout",
     "output_type": "stream",
     "text": [
      "How Many Words do you want to enter: 4\n",
      "Enter Word: Suraj\n",
      "Enter Word: Vishwakarma\n",
      "Enter Word: Hemant\n",
      "Enter Word: Vijay\n",
      "\n",
      "['Suraj', 'Vishwakarma', 'Hemant', 'Vijay']\n",
      "[5, 11, 6, 5]\n"
     ]
    }
   ],
   "source": [
    "def count_of_words():\n",
    "    lst=[]\n",
    "    m=int(input(\"How Many Words do you want to enter: \"))\n",
    "    for i in range(m):\n",
    "        lst.append(input(\"Enter Word: \"))\n",
    "    em_lst=[]\n",
    "    for i in range(len(lst)):\n",
    "        em_lst.append(len(lst[i][:]))\n",
    "    print('')\n",
    "    print(lst)\n",
    "    print(em_lst)\n",
    "\n",
    "count_of_words()"
   ]
  },
  {
   "cell_type": "code",
   "execution_count": null,
   "metadata": {},
   "outputs": [],
   "source": []
  },
  {
   "cell_type": "markdown",
   "metadata": {},
   "source": [
    "2.2 Write a Python function which takes a character (i.e. a string of length 1) and returns True if\n",
    "it is a vowel, False otherwise."
   ]
  },
  {
   "cell_type": "code",
   "execution_count": 21,
   "metadata": {},
   "outputs": [
    {
     "name": "stdout",
     "output_type": "stream",
     "text": [
      "Enter Character: a\n",
      "True\n"
     ]
    }
   ],
   "source": [
    "def check_vowels():\n",
    "    char=input(\"Enter Character: \").upper()\n",
    "    lst=['A','E','I','O','U']\n",
    "    if char in lst:\n",
    "        print(\"True\")\n",
    "    else:\n",
    "        print(\"False\")\n",
    "        \n",
    "check_vowels()"
   ]
  },
  {
   "cell_type": "code",
   "execution_count": null,
   "metadata": {},
   "outputs": [],
   "source": []
  }
 ],
 "metadata": {
  "kernelspec": {
   "display_name": "Python 3",
   "language": "python",
   "name": "python3"
  },
  "language_info": {
   "codemirror_mode": {
    "name": "ipython",
    "version": 3
   },
   "file_extension": ".py",
   "mimetype": "text/x-python",
   "name": "python",
   "nbconvert_exporter": "python",
   "pygments_lexer": "ipython3",
   "version": "3.8.5"
  }
 },
 "nbformat": 4,
 "nbformat_minor": 4
}
