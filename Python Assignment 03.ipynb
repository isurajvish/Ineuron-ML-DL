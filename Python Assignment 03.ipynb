{
 "cells": [
  {
   "cell_type": "markdown",
   "metadata": {},
   "source": [
    "<h3> PYTHON ASSIGNMENT 03"
   ]
  },
  {
   "cell_type": "markdown",
   "metadata": {},
   "source": [
    "1.1 Write a Python Program to implement your own myreduce() function which works exactly like Python's built-in function reduce()"
   ]
  },
  {
   "cell_type": "code",
   "execution_count": 7,
   "metadata": {},
   "outputs": [
    {
     "name": "stdout",
     "output_type": "stream",
     "text": [
      "Sum of Even List elements are : 30\n"
     ]
    }
   ],
   "source": [
    "#Sum of Even numbers present in list.\n",
    "\n",
    "num_list=[1,2,3,4,5,6,7,8,9,10]\n",
    "def myreduce(num_list):\n",
    "    sum_of_elements=0\n",
    "    \n",
    "    for i in num_list:\n",
    "        if i%2==0:\n",
    "            sum_of_elements+=i\n",
    "        \n",
    "    return sum_of_elements\n",
    "\n",
    "#Function Execution\n",
    "\n",
    "output_value=myreduce(num_list)\n",
    "\n",
    "#Output\n",
    "print(\"Sum of Even List elements are :\",output_value)"
   ]
  },
  {
   "cell_type": "code",
   "execution_count": 39,
   "metadata": {},
   "outputs": [],
   "source": [
    "# Same Solution can be approached by Built-in reduce() function\n",
    "\n",
    "num_list=[1,2,3,4,5,6,7,8,9,10]\n",
    "even_list=[]\n",
    "def even(num_list):\n",
    "    for i in num_list:\n",
    "            if i%2==0:\n",
    "                even_list.append(i)\n",
    "    return even_list\n"
   ]
  },
  {
   "cell_type": "code",
   "execution_count": 40,
   "metadata": {},
   "outputs": [
    {
     "name": "stdout",
     "output_type": "stream",
     "text": [
      "30\n"
     ]
    }
   ],
   "source": [
    "even(num_list)\n",
    "from functools import reduce\n",
    "print(reduce((lambda x,y:x+y),even_list))"
   ]
  },
  {
   "cell_type": "markdown",
   "metadata": {},
   "source": [
    "1.2 Write a Python program to implement your own myfilter() function which works exactly like Python's built-in function filter()\n",
    "\n"
   ]
  },
  {
   "cell_type": "code",
   "execution_count": 43,
   "metadata": {},
   "outputs": [
    {
     "name": "stdout",
     "output_type": "stream",
     "text": [
      "List of element which are divisible by 5: [5, 10, 15]\n"
     ]
    }
   ],
   "source": [
    "# Filter the given list of divisible of 5\n",
    "\n",
    "num_list=[1,2,3,4,5,6,7,8,9,10,11,12,13,14,15]\n",
    "\n",
    "div_five=[]\n",
    "def myfilter(num_list):\n",
    "    for i in num_list:\n",
    "        if(i%5==0):\n",
    "            div_five.append(i)\n",
    "    return div_five\n",
    "            \n",
    "\n",
    "\n",
    "#Function Execution\n",
    "output_value=myfilter(num_list)\n",
    "\n",
    "#Output\n",
    "print(\"List of element which are divisible by 5:\",output_value)\n"
   ]
  },
  {
   "cell_type": "code",
   "execution_count": 48,
   "metadata": {},
   "outputs": [
    {
     "name": "stdout",
     "output_type": "stream",
     "text": [
      "List of element which are divisible by 5: [5, 10, 15]\n"
     ]
    }
   ],
   "source": [
    "#Same solution can be approached by built-in filter() function\n",
    "\n",
    "num_list=[1,2,3,4,5,6,7,8,9,10,11,12,13,14,15]\n",
    "\n",
    "print(\"List of element which are divisible by 5:\",list(filter(lambda x:x%5==0,num_list)))\n"
   ]
  },
  {
   "cell_type": "markdown",
   "metadata": {},
   "source": [
    "- Implement List comprehensions to produce the following lists. Write List comprehensions to produce the following Lists ['A', 'C', 'A', 'D', 'G', 'I', ’L’, ‘ D’] ['x', 'xx', 'xxx', 'xxxx', 'y', 'yy', 'yyy', 'yyyy', 'z', 'zz', 'zzz', 'zzzz'] ['x', 'y', 'z', 'xx', 'yy', 'zz', 'xx', 'yy', 'zz', 'xxxx', 'yyyy', 'zzzz'] [[2], [3], [4], [3], [4], [5], [4], [5], [6]] [[2, 3, 4, 5], [3, 4, 5, 6], [4, 5, 6, 7], [5, 6, 7, 8]] [(1, 1), (2, 1), (3, 1), (1, 2), (2, 2), (3, 2), (1, 3), (2, 3), (3, 3)]"
   ]
  },
  {
   "cell_type": "code",
   "execution_count": 58,
   "metadata": {},
   "outputs": [
    {
     "name": "stdout",
     "output_type": "stream",
     "text": [
      "['A', 'C', 'A', 'D', 'G', 'I', 'L', 'D']\n",
      "['x', 'xx', 'xxx', 'xxxx', 'y', 'yy', 'yyy', 'yyyy', 'z', 'zz', 'zzz', 'zzzz']\n",
      "['x', 'y', 'z', 'xx', 'yy', 'zz', 'xxx', 'yyy', 'zzz', 'xxxx', 'yyyy', 'zzzz']\n",
      "[[2], [3], [4], [3], [4], [5], [4], [5], [6]]\n",
      "[[2, 3, 4, 5], [3, 4, 5, 6], [4, 5, 6, 7], [5, 6, 7, 8]]\n",
      "[(1, 1), (2, 1), (3, 1), (1, 2), (2, 2), (3, 2), (1, 3), (2, 3), (3, 3)]\n"
     ]
    }
   ],
   "source": [
    "#Solution\n",
    "\n",
    "#Section 1\n",
    "word1='acAdGIld'\n",
    "output_list1=[i.upper() for i in list(word1)]\n",
    "print(output_list1)\n",
    "\n",
    "#Section 2\n",
    "word2='xyz'\n",
    "output_list2=[x*n for x in word  for n in range(1,5)]\n",
    "print(output_list2)\n",
    "\n",
    "#Section 3\n",
    "output3=[x*n for n in range(1,5) for x in word2 ]\n",
    "print(output3)\n",
    "\n",
    "#Section 4\n",
    "number=[2,3,4]\n",
    "output4=[[x+n] for x in number for n in range(0,3)]\n",
    "print(output4)\n",
    "\n",
    "#Section 5\n",
    "number_2=[2,3,4,5]\n",
    "output5=[[x+n for n in range(0,4)] for x in number_2 ]\n",
    "print(output5)\n",
    "\n",
    "#Section 6\n",
    "number_4=[1,2,3]\n",
    "output6= [(b,a) for a in number_4 for b in number_4]\n",
    "print(output6)"
   ]
  },
  {
   "cell_type": "code",
   "execution_count": null,
   "metadata": {},
   "outputs": [],
   "source": []
  }
 ],
 "metadata": {
  "kernelspec": {
   "display_name": "Python 3",
   "language": "python",
   "name": "python3"
  },
  "language_info": {
   "codemirror_mode": {
    "name": "ipython",
    "version": 3
   },
   "file_extension": ".py",
   "mimetype": "text/x-python",
   "name": "python",
   "nbconvert_exporter": "python",
   "pygments_lexer": "ipython3",
   "version": "3.8.5"
  }
 },
 "nbformat": 4,
 "nbformat_minor": 4
}
